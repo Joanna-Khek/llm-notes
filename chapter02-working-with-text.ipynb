{
 "cells": [
  {
   "cell_type": "code",
   "execution_count": 4,
   "metadata": {},
   "outputs": [],
   "source": [
    "from importlib.metadata import version\n",
    "\n",
    "import tiktoken\n",
    "import torch\n",
    "\n",
    "import re"
   ]
  },
  {
   "cell_type": "code",
   "execution_count": 2,
   "metadata": {},
   "outputs": [
    {
     "name": "stdout",
     "output_type": "stream",
     "text": [
      "torch version: 2.2.2+cu118\n",
      "tiktoken version: 0.5.1\n"
     ]
    }
   ],
   "source": [
    "print(\"torch version:\", version(\"torch\"))\n",
    "print(\"tiktoken version:\", version(\"tiktoken\"))"
   ]
  },
  {
   "cell_type": "markdown",
   "metadata": {},
   "source": [
    "# Tokenizing Text"
   ]
  },
  {
   "cell_type": "code",
   "execution_count": 3,
   "metadata": {},
   "outputs": [
    {
     "name": "stdout",
     "output_type": "stream",
     "text": [
      "Total number of character: 20479\n",
      "I HAD always thought Jack Gisburn rather a cheap genius--though a good fellow enough--so it was no \n"
     ]
    }
   ],
   "source": [
    "with open(\"the-verdict.txt\", \"r\", encoding=\"utf-8\") as f:\n",
    "    raw_text = f.read()\n",
    "\n",
    "print(\"Total number of character:\", len(raw_text))\n",
    "print(raw_text[:99])"
   ]
  },
  {
   "cell_type": "code",
   "execution_count": 11,
   "metadata": {},
   "outputs": [
    {
     "name": "stdout",
     "output_type": "stream",
     "text": [
      "['Hello', ',', '', ' ', 'world', '.', '', ' ', 'Is', ' ', 'this', '--', '', ' ', 'a', ' ', 'test', '?', '']\n"
     ]
    }
   ],
   "source": [
    "# We want to split on whitespaces, commas, periods and other punctuations\n",
    "text = \"Hello, world. Is this-- a test?\"\n",
    "result = re.split(r'([,.:;?_!\"()\\']|--|\\s)', text)\n",
    "print(result)"
   ]
  },
  {
   "cell_type": "code",
   "execution_count": 12,
   "metadata": {},
   "outputs": [
    {
     "name": "stdout",
     "output_type": "stream",
     "text": [
      "['Hello', ',', 'world', '.', 'Is', 'this', '--', 'a', 'test', '?']\n"
     ]
    }
   ],
   "source": [
    "# strip whitespace from each item and filter out any empty strings\n",
    "result = [item for item in result if item.strip()]\n",
    "print(result)"
   ]
  },
  {
   "cell_type": "markdown",
   "metadata": {},
   "source": [
    "Using our raw_text, we tokenize the same way"
   ]
  },
  {
   "cell_type": "code",
   "execution_count": 13,
   "metadata": {},
   "outputs": [
    {
     "name": "stdout",
     "output_type": "stream",
     "text": [
      "['I', 'HAD', 'always', 'thought', 'Jack', 'Gisburn', 'rather', 'a', 'cheap', 'genius', '--', 'though', 'a', 'good', 'fellow', 'enough', '--', 'so', 'it', 'was', 'no', 'great', 'surprise', 'to', 'me', 'to', 'hear', 'that', ',', 'in']\n"
     ]
    }
   ],
   "source": [
    "preprocessed = re.split(r'([,.?_!\"()\\']|--|\\s)', raw_text)\n",
    "preprocessed = [item.strip() for item in preprocessed if item.strip()]\n",
    "print(preprocessed[:30])"
   ]
  },
  {
   "cell_type": "code",
   "execution_count": 14,
   "metadata": {},
   "outputs": [
    {
     "name": "stdout",
     "output_type": "stream",
     "text": [
      "4649\n"
     ]
    }
   ],
   "source": [
    "print(len(preprocessed))"
   ]
  },
  {
   "cell_type": "markdown",
   "metadata": {},
   "source": [
    "# Convert tokens into token IDs"
   ]
  },
  {
   "cell_type": "markdown",
   "metadata": {},
   "source": [
    "Using all these tokens, we build a vocabulary that consists of all the unique tokens"
   ]
  },
  {
   "cell_type": "code",
   "execution_count": 16,
   "metadata": {},
   "outputs": [
    {
     "name": "stdout",
     "output_type": "stream",
     "text": [
      "1159\n"
     ]
    }
   ],
   "source": [
    "all_words = sorted(list(set(preprocessed)))\n",
    "vocab_size = len(all_words)\n",
    "print(vocab_size)"
   ]
  },
  {
   "cell_type": "code",
   "execution_count": 23,
   "metadata": {},
   "outputs": [
    {
     "data": {
      "text/plain": [
       "{'!': 0,\n",
       " '\"': 1,\n",
       " \"'\": 2,\n",
       " '(': 3,\n",
       " ')': 4,\n",
       " ',': 5,\n",
       " '--': 6,\n",
       " '.': 7,\n",
       " ':': 8,\n",
       " ';': 9,\n",
       " '?': 10,\n",
       " 'A': 11,\n",
       " 'Ah': 12,\n",
       " 'Among': 13,\n",
       " 'And': 14,\n",
       " 'Are': 15,\n",
       " 'Arrt': 16,\n",
       " 'As': 17,\n",
       " 'At': 18,\n",
       " 'Be': 19,\n",
       " 'Begin': 20,\n",
       " 'Burlington': 21,\n",
       " 'But': 22,\n",
       " 'By': 23,\n",
       " 'Carlo': 24,\n",
       " 'Carlo;': 25,\n",
       " 'Chicago': 26,\n",
       " 'Claude': 27,\n",
       " 'Come': 28,\n",
       " 'Croft': 29,\n",
       " 'Destroyed': 30,\n",
       " 'Devonshire': 31,\n",
       " 'Don': 32,\n",
       " 'Dubarry': 33,\n",
       " 'Emperors': 34,\n",
       " 'Florence': 35,\n",
       " 'For': 36,\n",
       " 'Gallery': 37,\n",
       " 'Gideon': 38,\n",
       " 'Gisburn': 39,\n",
       " 'Gisburns': 40,\n",
       " 'Grafton': 41,\n",
       " 'Greek': 42,\n",
       " 'Grindle': 43,\n",
       " 'Grindle:': 44,\n",
       " 'Grindles': 45,\n",
       " 'HAD': 46,\n",
       " 'Had': 47,\n",
       " 'Hang': 48,\n",
       " 'Has': 49,\n",
       " 'He': 50,\n",
       " 'Her': 51,\n",
       " 'Hermia': 52,\n",
       " 'His': 53,\n",
       " 'How': 54,\n",
       " 'I': 55,\n",
       " 'If': 56,\n",
       " 'In': 57,\n",
       " 'It': 58,\n",
       " 'Jack': 59,\n",
       " 'Jove': 60,\n",
       " 'Just': 61,\n",
       " 'Lord': 62,\n",
       " 'Made': 63,\n",
       " 'Miss': 64,\n",
       " 'Money': 65,\n",
       " 'Monte': 66,\n",
       " 'Moon-dancers': 67,\n",
       " 'Mr': 68,\n",
       " 'Mrs': 69,\n",
       " 'My': 70,\n",
       " 'Never': 71,\n",
       " 'No': 72,\n",
       " 'Now': 73,\n",
       " 'Nutley': 74,\n",
       " 'Of': 75,\n",
       " 'Oh': 76,\n",
       " 'On': 77,\n",
       " 'Once': 78,\n",
       " 'Only': 79,\n",
       " 'Or': 80,\n",
       " 'Perhaps': 81,\n",
       " 'Poor': 82,\n",
       " 'Professional': 83,\n",
       " 'Renaissance': 84,\n",
       " 'Rickham': 85,\n",
       " 'Rickham;': 86,\n",
       " 'Riviera': 87,\n",
       " 'Rome': 88,\n",
       " 'Russian': 89,\n",
       " 'Sevres': 90,\n",
       " 'She': 91,\n",
       " 'Stroud': 92,\n",
       " 'Strouds': 93,\n",
       " 'Suddenly': 94,\n",
       " 'That': 95,\n",
       " 'The': 96,\n",
       " 'Then': 97,\n",
       " 'There': 98,\n",
       " 'There:': 99,\n",
       " 'They': 100,\n",
       " 'This': 101,\n",
       " 'Those': 102,\n",
       " 'Though': 103,\n",
       " 'Thwing': 104,\n",
       " 'Thwings': 105,\n",
       " 'To': 106,\n",
       " 'Usually': 107,\n",
       " 'Venetian': 108,\n",
       " 'Victor': 109,\n",
       " 'Was': 110,\n",
       " 'We': 111,\n",
       " 'Well': 112,\n",
       " 'What': 113,\n",
       " 'When': 114,\n",
       " 'Why': 115,\n",
       " 'Yes': 116,\n",
       " 'You': 117,\n",
       " '_': 118,\n",
       " 'a': 119,\n",
       " 'abdication': 120,\n",
       " 'able': 121,\n",
       " 'about': 122,\n",
       " 'about;': 123,\n",
       " 'above': 124,\n",
       " 'abruptly': 125,\n",
       " 'absolute': 126,\n",
       " 'absorbed': 127,\n",
       " 'absurdity': 128,\n",
       " 'academic': 129,\n",
       " 'accuse': 130,\n",
       " 'accustomed': 131,\n",
       " 'across': 132,\n",
       " 'activity': 133,\n",
       " 'add': 134,\n",
       " 'added': 135,\n",
       " 'admirers': 136,\n",
       " 'adopted': 137,\n",
       " 'adulation': 138,\n",
       " 'advance': 139,\n",
       " 'aesthetic': 140,\n",
       " 'affect': 141,\n",
       " 'afraid': 142,\n",
       " 'after': 143,\n",
       " 'afterward': 144,\n",
       " 'again': 145,\n",
       " 'ago': 146,\n",
       " 'ah': 147,\n",
       " 'air': 148,\n",
       " 'alive': 149,\n",
       " 'all': 150,\n",
       " 'almost': 151,\n",
       " 'alone': 152,\n",
       " 'along': 153,\n",
       " 'always': 154,\n",
       " 'am': 155,\n",
       " 'amazement': 156,\n",
       " 'amid': 157,\n",
       " 'among': 158,\n",
       " 'amplest': 159,\n",
       " 'amusing': 160,\n",
       " 'an': 161,\n",
       " 'and': 162,\n",
       " 'another': 163,\n",
       " 'answer': 164,\n",
       " 'answered': 165,\n",
       " 'any': 166,\n",
       " 'anything': 167,\n",
       " 'anywhere': 168,\n",
       " 'apparent': 169,\n",
       " 'apparently': 170,\n",
       " 'appearance': 171,\n",
       " 'appeared': 172,\n",
       " 'appointed': 173,\n",
       " 'are': 174,\n",
       " 'arm': 175,\n",
       " 'arm-chair': 176,\n",
       " 'arm-chairs': 177,\n",
       " 'arms': 178,\n",
       " 'art': 179,\n",
       " 'articles': 180,\n",
       " 'artist': 181,\n",
       " 'as': 182,\n",
       " 'aside': 183,\n",
       " 'asked': 184,\n",
       " 'at': 185,\n",
       " 'atmosphere': 186,\n",
       " 'atom': 187,\n",
       " 'attack': 188,\n",
       " 'attention': 189,\n",
       " 'attention;': 190,\n",
       " 'attitude': 191,\n",
       " 'audacities': 192,\n",
       " 'away': 193,\n",
       " 'awful': 194,\n",
       " 'axioms': 195,\n",
       " 'azaleas': 196,\n",
       " 'back': 197,\n",
       " 'background': 198,\n",
       " 'balance': 199,\n",
       " 'balancing': 200,\n",
       " 'balustraded': 201,\n",
       " 'basking': 202,\n",
       " 'bath-rooms': 203,\n",
       " 'be': 204,\n",
       " 'beaming': 205,\n",
       " 'bean-stalk': 206,\n",
       " 'bear': 207,\n",
       " 'beard': 208,\n",
       " 'beauty': 209,\n",
       " 'became': 210,\n",
       " 'because': 211,\n",
       " 'becoming': 212,\n",
       " 'bed': 213,\n",
       " 'been': 214,\n",
       " 'before': 215,\n",
       " 'began': 216,\n",
       " 'begun': 217,\n",
       " 'behind': 218,\n",
       " 'being': 219,\n",
       " 'believed': 220,\n",
       " 'beneath': 221,\n",
       " 'bespoke': 222,\n",
       " 'better': 223,\n",
       " 'better;': 224,\n",
       " 'between': 225,\n",
       " 'big': 226,\n",
       " 'bits': 227,\n",
       " 'bitterness': 228,\n",
       " 'blocked': 229,\n",
       " 'born': 230,\n",
       " 'borne': 231,\n",
       " 'boudoir': 232,\n",
       " 'bravura': 233,\n",
       " 'break': 234,\n",
       " 'breaking': 235,\n",
       " 'breathing': 236,\n",
       " 'bric-a-brac': 237,\n",
       " 'briefly': 238,\n",
       " 'brings': 239,\n",
       " 'bronzes': 240,\n",
       " 'brought': 241,\n",
       " 'brown': 242,\n",
       " 'brush': 243,\n",
       " 'bull': 244,\n",
       " 'business': 245,\n",
       " 'but': 246,\n",
       " 'buying': 247,\n",
       " 'by': 248,\n",
       " 'called': 249,\n",
       " 'came': 250,\n",
       " 'can': 251,\n",
       " 'canvas': 252,\n",
       " 'canvases': 253,\n",
       " 'cards': 254,\n",
       " 'care': 255,\n",
       " 'career': 256,\n",
       " 'caught': 257,\n",
       " 'central': 258,\n",
       " 'chair': 259,\n",
       " 'chap': 260,\n",
       " 'characteristic': 261,\n",
       " 'charming': 262,\n",
       " 'cheap': 263,\n",
       " 'check': 264,\n",
       " 'cheeks': 265,\n",
       " 'chest': 266,\n",
       " 'chimney-piece': 267,\n",
       " 'chucked': 268,\n",
       " 'cigar': 269,\n",
       " 'cigarette': 270,\n",
       " 'cigars': 271,\n",
       " 'circulation': 272,\n",
       " 'circumstance': 273,\n",
       " 'circus-clown': 274,\n",
       " 'claimed': 275,\n",
       " 'clasping': 276,\n",
       " 'clear': 277,\n",
       " 'cleverer': 278,\n",
       " 'close': 279,\n",
       " 'clue': 280,\n",
       " 'coat': 281,\n",
       " 'collapsed': 282,\n",
       " 'colour': 283,\n",
       " 'come': 284,\n",
       " 'comfortable': 285,\n",
       " 'coming': 286,\n",
       " 'companion': 287,\n",
       " 'compared': 288,\n",
       " 'complex': 289,\n",
       " 'confident': 290,\n",
       " 'congesting': 291,\n",
       " 'conjugal': 292,\n",
       " 'constraint': 293,\n",
       " 'consummate': 294,\n",
       " 'contended': 295,\n",
       " 'continued': 296,\n",
       " 'corner': 297,\n",
       " 'corrected': 298,\n",
       " 'could': 299,\n",
       " 'couldn': 300,\n",
       " 'count': 301,\n",
       " 'countenance': 302,\n",
       " 'couple': 303,\n",
       " 'course': 304,\n",
       " 'covered': 305,\n",
       " 'craft': 306,\n",
       " 'cried': 307,\n",
       " 'crossed': 308,\n",
       " 'crowned': 309,\n",
       " 'crumbled': 310,\n",
       " 'cry': 311,\n",
       " 'cured': 312,\n",
       " 'curiosity': 313,\n",
       " 'curious': 314,\n",
       " 'current': 315,\n",
       " 'curtains': 316,\n",
       " 'd': 317,\n",
       " 'dabble': 318,\n",
       " 'damask': 319,\n",
       " 'dark': 320,\n",
       " 'dashed': 321,\n",
       " 'day': 322,\n",
       " 'days': 323,\n",
       " 'dead': 324,\n",
       " 'deadening': 325,\n",
       " 'dear': 326,\n",
       " 'deep': 327,\n",
       " 'deerhound': 328,\n",
       " 'degree': 329,\n",
       " 'delicate': 330,\n",
       " 'demand': 331,\n",
       " 'denied': 332,\n",
       " 'deploring': 333,\n",
       " 'deprecating': 334,\n",
       " 'deprecatingly': 335,\n",
       " 'desire': 336,\n",
       " 'destroyed': 337,\n",
       " 'destruction': 338,\n",
       " 'desultory': 339,\n",
       " 'detail': 340,\n",
       " 'diagnosis': 341,\n",
       " 'did': 342,\n",
       " 'didn': 343,\n",
       " 'died': 344,\n",
       " 'dim': 345,\n",
       " 'dimmest': 346,\n",
       " 'dingy': 347,\n",
       " 'dining-room': 348,\n",
       " 'disarming': 349,\n",
       " 'discovery;': 350,\n",
       " 'discrimination': 351,\n",
       " 'discussion': 352,\n",
       " 'disdain': 353,\n",
       " 'disdained': 354,\n",
       " 'disease': 355,\n",
       " 'disguised': 356,\n",
       " 'display': 357,\n",
       " 'dissatisfied': 358,\n",
       " 'distinguished': 359,\n",
       " 'distract': 360,\n",
       " 'divert': 361,\n",
       " 'do': 362,\n",
       " 'doesn': 363,\n",
       " 'doing': 364,\n",
       " 'domestic': 365,\n",
       " 'don': 366,\n",
       " 'done': 367,\n",
       " 'donkey': 368,\n",
       " 'down': 369,\n",
       " 'dozen': 370,\n",
       " 'dragged': 371,\n",
       " 'drawing-room': 372,\n",
       " 'drawing-rooms': 373,\n",
       " 'drawn': 374,\n",
       " 'dress-closets': 375,\n",
       " 'drew': 376,\n",
       " 'dropped': 377,\n",
       " 'each': 378,\n",
       " 'earth': 379,\n",
       " 'ease': 380,\n",
       " 'easel': 381,\n",
       " 'easy': 382,\n",
       " 'echoed': 383,\n",
       " 'economy': 384,\n",
       " 'effect': 385,\n",
       " 'effects': 386,\n",
       " 'efforts': 387,\n",
       " 'egregious': 388,\n",
       " 'eighteenth-century': 389,\n",
       " 'elbow': 390,\n",
       " 'elegant': 391,\n",
       " 'else': 392,\n",
       " 'embarrassed': 393,\n",
       " 'enabled': 394,\n",
       " 'end': 395,\n",
       " 'endless': 396,\n",
       " 'enjoy': 397,\n",
       " 'enlightenment:': 398,\n",
       " 'enough': 399,\n",
       " 'ensuing': 400,\n",
       " 'equally': 401,\n",
       " 'equanimity': 402,\n",
       " 'escape': 403,\n",
       " 'established': 404,\n",
       " 'etching': 405,\n",
       " 'even': 406,\n",
       " 'event': 407,\n",
       " 'ever': 408,\n",
       " 'everlasting': 409,\n",
       " 'every': 410,\n",
       " 'exasperated': 411,\n",
       " 'except': 412,\n",
       " 'excuse': 413,\n",
       " 'excusing': 414,\n",
       " 'existed': 415,\n",
       " 'expected': 416,\n",
       " 'exquisite': 417,\n",
       " 'exquisitely': 418,\n",
       " 'extenuation': 419,\n",
       " 'exterminating': 420,\n",
       " 'extracting': 421,\n",
       " 'eye': 422,\n",
       " 'eyebrows': 423,\n",
       " 'eyes': 424,\n",
       " 'eyes:': 425,\n",
       " 'face': 426,\n",
       " 'faces': 427,\n",
       " 'fact': 428,\n",
       " 'faded': 429,\n",
       " 'failed': 430,\n",
       " 'failure': 431,\n",
       " 'fair': 432,\n",
       " 'faith': 433,\n",
       " 'false': 434,\n",
       " 'familiar': 435,\n",
       " 'famille-verte': 436,\n",
       " 'fancy': 437,\n",
       " 'fashionable': 438,\n",
       " 'fate': 439,\n",
       " 'feather': 440,\n",
       " 'feet': 441,\n",
       " 'fell': 442,\n",
       " 'fellow': 443,\n",
       " 'felt': 444,\n",
       " 'few': 445,\n",
       " 'fewer': 446,\n",
       " 'finality': 447,\n",
       " 'find': 448,\n",
       " 'fingers': 449,\n",
       " 'first': 450,\n",
       " 'fit': 451,\n",
       " 'fitting': 452,\n",
       " 'five': 453,\n",
       " 'flash': 454,\n",
       " 'flashed': 455,\n",
       " 'florid': 456,\n",
       " 'flowers': 457,\n",
       " 'fluently': 458,\n",
       " 'flung': 459,\n",
       " 'follow': 460,\n",
       " 'followed': 461,\n",
       " 'fond': 462,\n",
       " 'footstep': 463,\n",
       " 'for': 464,\n",
       " 'forced': 465,\n",
       " 'forcing': 466,\n",
       " 'forehead': 467,\n",
       " 'foreign': 468,\n",
       " 'foreseen': 469,\n",
       " 'forgive': 470,\n",
       " 'forgotten': 471,\n",
       " 'form': 472,\n",
       " 'formed': 473,\n",
       " 'forming': 474,\n",
       " 'forward': 475,\n",
       " 'fostered': 476,\n",
       " 'found': 477,\n",
       " 'foundations': 478,\n",
       " 'fragment': 479,\n",
       " 'fragments': 480,\n",
       " 'frame': 481,\n",
       " 'frames': 482,\n",
       " 'frequently': 483,\n",
       " 'friend': 484,\n",
       " 'from': 485,\n",
       " 'full': 486,\n",
       " 'fullest': 487,\n",
       " 'furiously': 488,\n",
       " 'furrowed': 489,\n",
       " 'garlanded': 490,\n",
       " 'garlands': 491,\n",
       " 'gave': 492,\n",
       " 'genial': 493,\n",
       " 'genius': 494,\n",
       " 'gesture': 495,\n",
       " 'get': 496,\n",
       " 'getting': 497,\n",
       " 'give': 498,\n",
       " 'given': 499,\n",
       " 'glad': 500,\n",
       " 'glanced': 501,\n",
       " 'glimpse': 502,\n",
       " 'gloried': 503,\n",
       " 'glory': 504,\n",
       " 'go': 505,\n",
       " 'going': 506,\n",
       " 'gone': 507,\n",
       " 'good': 508,\n",
       " 'good-breeding': 509,\n",
       " 'good-humoured': 510,\n",
       " 'got': 511,\n",
       " 'grace': 512,\n",
       " 'gradually': 513,\n",
       " 'gray': 514,\n",
       " 'grayish': 515,\n",
       " 'great': 516,\n",
       " 'greatest': 517,\n",
       " 'greatness': 518,\n",
       " 'grew': 519,\n",
       " 'groping': 520,\n",
       " 'growing': 521,\n",
       " 'had': 522,\n",
       " 'hadn': 523,\n",
       " 'hair': 524,\n",
       " 'half': 525,\n",
       " 'half-light': 526,\n",
       " 'half-mechanically': 527,\n",
       " 'hall': 528,\n",
       " 'hand': 529,\n",
       " 'hands': 530,\n",
       " 'handsome': 531,\n",
       " 'hanging': 532,\n",
       " 'happen': 533,\n",
       " 'happened': 534,\n",
       " 'hard': 535,\n",
       " 'hardly': 536,\n",
       " 'has': 537,\n",
       " 'have': 538,\n",
       " 'haven': 539,\n",
       " 'having': 540,\n",
       " 'he': 541,\n",
       " 'head': 542,\n",
       " 'hear': 543,\n",
       " 'heard': 544,\n",
       " 'heart': 545,\n",
       " 'height': 546,\n",
       " 'her': 547,\n",
       " 'here': 548,\n",
       " 'here;': 549,\n",
       " 'hermit': 550,\n",
       " 'herself': 551,\n",
       " 'hesitations': 552,\n",
       " 'hide': 553,\n",
       " 'high': 554,\n",
       " 'him': 555,\n",
       " 'him:': 556,\n",
       " 'himself': 557,\n",
       " 'hint': 558,\n",
       " 'his': 559,\n",
       " 'history': 560,\n",
       " 'holding': 561,\n",
       " 'home': 562,\n",
       " 'honour': 563,\n",
       " 'hooded': 564,\n",
       " 'hostess': 565,\n",
       " 'hostess:': 566,\n",
       " 'hot-house': 567,\n",
       " 'hour': 568,\n",
       " 'hours': 569,\n",
       " 'house': 570,\n",
       " 'how': 571,\n",
       " 'hung': 572,\n",
       " 'husband': 573,\n",
       " 'idea': 574,\n",
       " 'idle': 575,\n",
       " 'idling': 576,\n",
       " 'if': 577,\n",
       " 'immediately': 578,\n",
       " 'in': 579,\n",
       " 'incense': 580,\n",
       " 'indifferent;': 581,\n",
       " 'inevitable': 582,\n",
       " 'inevitably': 583,\n",
       " 'inflexible': 584,\n",
       " 'insensible': 585,\n",
       " 'insignificant': 586,\n",
       " 'instinctively': 587,\n",
       " 'instructive': 588,\n",
       " 'interesting': 589,\n",
       " 'into': 590,\n",
       " 'ironic': 591,\n",
       " 'irony': 592,\n",
       " 'irrelevance': 593,\n",
       " 'irrevocable': 594,\n",
       " 'is': 595,\n",
       " 'it': 596,\n",
       " 'it;': 597,\n",
       " 'its': 598,\n",
       " 'itself': 599,\n",
       " 'jardiniere': 600,\n",
       " 'jealousy': 601,\n",
       " 'just': 602,\n",
       " 'keep': 603,\n",
       " 'kept': 604,\n",
       " 'kind': 605,\n",
       " 'knees': 606,\n",
       " 'knew': 607,\n",
       " 'know': 608,\n",
       " 'know;': 609,\n",
       " 'known': 610,\n",
       " 'laid': 611,\n",
       " 'lair': 612,\n",
       " 'landing': 613,\n",
       " 'language': 614,\n",
       " 'last': 615,\n",
       " 'late': 616,\n",
       " 'later': 617,\n",
       " 'latter': 618,\n",
       " 'laugh': 619,\n",
       " 'laugh:': 620,\n",
       " 'laughed': 621,\n",
       " 'lay': 622,\n",
       " 'leading': 623,\n",
       " 'lean': 624,\n",
       " 'learned': 625,\n",
       " 'least': 626,\n",
       " 'leathery:': 627,\n",
       " 'leave': 628,\n",
       " 'led': 629,\n",
       " 'left': 630,\n",
       " 'leisure': 631,\n",
       " 'lends': 632,\n",
       " 'lent': 633,\n",
       " 'let': 634,\n",
       " 'lies': 635,\n",
       " 'life': 636,\n",
       " 'life-likeness': 637,\n",
       " 'lift': 638,\n",
       " 'lifted': 639,\n",
       " 'light': 640,\n",
       " 'lightly;': 641,\n",
       " 'like': 642,\n",
       " 'liked': 643,\n",
       " 'line': 644,\n",
       " 'lines': 645,\n",
       " 'lingered': 646,\n",
       " 'lips': 647,\n",
       " 'lit': 648,\n",
       " 'little': 649,\n",
       " 'little:': 650,\n",
       " 'live': 651,\n",
       " 'll': 652,\n",
       " 'loathing': 653,\n",
       " 'long': 654,\n",
       " 'longed': 655,\n",
       " 'longer': 656,\n",
       " 'look': 657,\n",
       " 'looked': 658,\n",
       " 'looking': 659,\n",
       " 'lose': 660,\n",
       " 'loss': 661,\n",
       " 'lounging': 662,\n",
       " 'lovely': 663,\n",
       " 'lucky': 664,\n",
       " 'lump': 665,\n",
       " 'luncheon-table': 666,\n",
       " 'luxury': 667,\n",
       " 'lying': 668,\n",
       " 'made': 669,\n",
       " 'make': 670,\n",
       " 'man': 671,\n",
       " 'manage': 672,\n",
       " 'managed': 673,\n",
       " 'mantel-piece': 674,\n",
       " 'marble': 675,\n",
       " 'married': 676,\n",
       " 'may': 677,\n",
       " 'me': 678,\n",
       " 'meant': 679,\n",
       " 'mediocrity': 680,\n",
       " 'medium': 681,\n",
       " 'mentioned': 682,\n",
       " 'mere': 683,\n",
       " 'merely': 684,\n",
       " 'met': 685,\n",
       " 'might': 686,\n",
       " 'mighty': 687,\n",
       " 'millionaire': 688,\n",
       " 'mine': 689,\n",
       " 'mine:': 690,\n",
       " 'minute': 691,\n",
       " 'minutes': 692,\n",
       " 'mirrors': 693,\n",
       " 'modest': 694,\n",
       " 'modesty': 695,\n",
       " 'moment': 696,\n",
       " 'money': 697,\n",
       " 'monumental': 698,\n",
       " 'mood': 699,\n",
       " 'morbidly': 700,\n",
       " 'more': 701,\n",
       " 'most': 702,\n",
       " 'mourn': 703,\n",
       " 'mourned': 704,\n",
       " 'moustache': 705,\n",
       " 'moved': 706,\n",
       " 'much': 707,\n",
       " 'muddling;': 708,\n",
       " 'multiplied': 709,\n",
       " 'murmur': 710,\n",
       " 'muscles': 711,\n",
       " 'must': 712,\n",
       " 'my': 713,\n",
       " 'myself': 714,\n",
       " 'mysterious': 715,\n",
       " 'naive': 716,\n",
       " 'near': 717,\n",
       " 'nearly': 718,\n",
       " 'negatived': 719,\n",
       " 'nervous': 720,\n",
       " 'nervousness;': 721,\n",
       " 'neutral': 722,\n",
       " 'never': 723,\n",
       " 'next': 724,\n",
       " 'no': 725,\n",
       " 'none': 726,\n",
       " 'not': 727,\n",
       " 'note': 728,\n",
       " 'nothing': 729,\n",
       " 'now': 730,\n",
       " 'nymphs': 731,\n",
       " 'oak': 732,\n",
       " 'obituary': 733,\n",
       " 'object': 734,\n",
       " 'objects': 735,\n",
       " 'occurred': 736,\n",
       " 'oddly': 737,\n",
       " 'of': 738,\n",
       " 'off': 739,\n",
       " 'often': 740,\n",
       " 'oh': 741,\n",
       " 'old': 742,\n",
       " 'on': 743,\n",
       " 'once': 744,\n",
       " 'one': 745,\n",
       " 'ones': 746,\n",
       " 'only': 747,\n",
       " 'onto': 748,\n",
       " 'open': 749,\n",
       " 'or': 750,\n",
       " 'other': 751,\n",
       " 'our': 752,\n",
       " 'ourselves': 753,\n",
       " 'out': 754,\n",
       " 'out:': 755,\n",
       " 'outline': 756,\n",
       " 'oval': 757,\n",
       " 'over': 758,\n",
       " 'own': 759,\n",
       " 'packed': 760,\n",
       " 'paid': 761,\n",
       " 'paint': 762,\n",
       " 'painted': 763,\n",
       " 'painted;': 764,\n",
       " 'painter': 765,\n",
       " 'painting': 766,\n",
       " 'painting;': 767,\n",
       " 'pale': 768,\n",
       " 'paled': 769,\n",
       " 'palm-trees;': 770,\n",
       " 'panel': 771,\n",
       " 'panelling': 772,\n",
       " 'pardonable': 773,\n",
       " 'pardoned': 774,\n",
       " 'part': 775,\n",
       " 'passages': 776,\n",
       " 'passing': 777,\n",
       " 'past': 778,\n",
       " 'pastels': 779,\n",
       " 'pathos': 780,\n",
       " 'patient': 781,\n",
       " 'people': 782,\n",
       " 'perceptible': 783,\n",
       " 'perfect': 784,\n",
       " 'persistence': 785,\n",
       " 'persuasively': 786,\n",
       " 'phrase': 787,\n",
       " 'picture': 788,\n",
       " 'pictures': 789,\n",
       " 'pines': 790,\n",
       " 'pink': 791,\n",
       " 'place': 792,\n",
       " 'placed': 793,\n",
       " 'plain': 794,\n",
       " 'platitudes': 795,\n",
       " 'pleased': 796,\n",
       " 'pockets': 797,\n",
       " 'point': 798,\n",
       " 'poised': 799,\n",
       " 'poor': 800,\n",
       " 'portrait': 801,\n",
       " 'posing': 802,\n",
       " 'possessed': 803,\n",
       " 'poverty': 804,\n",
       " 'predicted': 805,\n",
       " 'preliminary': 806,\n",
       " 'presenting': 807,\n",
       " 'prestidigitation': 808,\n",
       " 'pretty': 809,\n",
       " 'previous': 810,\n",
       " 'price': 811,\n",
       " 'pride': 812,\n",
       " 'pride:': 813,\n",
       " 'princely': 814,\n",
       " 'prism': 815,\n",
       " 'problem': 816,\n",
       " 'proclaiming': 817,\n",
       " 'prodigious': 818,\n",
       " 'profusion': 819,\n",
       " 'protest': 820,\n",
       " 'prove': 821,\n",
       " 'public': 822,\n",
       " 'purblind': 823,\n",
       " 'purely': 824,\n",
       " 'pushed': 825,\n",
       " 'put': 826,\n",
       " 'qualities': 827,\n",
       " 'quality': 828,\n",
       " 'queerly': 829,\n",
       " 'question': 830,\n",
       " 'question:': 831,\n",
       " 'quickly': 832,\n",
       " 'quietly': 833,\n",
       " 'quite': 834,\n",
       " 'quote': 835,\n",
       " 'rain': 836,\n",
       " 'raised': 837,\n",
       " 'random': 838,\n",
       " 'rather': 839,\n",
       " 're': 840,\n",
       " 'real': 841,\n",
       " 'really': 842,\n",
       " 'reared': 843,\n",
       " 'reason': 844,\n",
       " 'reassurance': 845,\n",
       " 'recovering': 846,\n",
       " 'recreated': 847,\n",
       " 'reflected': 848,\n",
       " 'reflection': 849,\n",
       " 'regrets': 850,\n",
       " 'relatively': 851,\n",
       " 'remained': 852,\n",
       " 'remember': 853,\n",
       " 'reminded': 854,\n",
       " 'repeating': 855,\n",
       " 'represented': 856,\n",
       " 'reproduction': 857,\n",
       " 'resented': 858,\n",
       " 'resolve': 859,\n",
       " 'resources': 860,\n",
       " 'rest': 861,\n",
       " 'rich': 862,\n",
       " 'rich;': 863,\n",
       " 'ridiculous': 864,\n",
       " 'robbed': 865,\n",
       " 'romantic': 866,\n",
       " 'room': 867,\n",
       " 'rose': 868,\n",
       " 'rs': 869,\n",
       " 'rule': 870,\n",
       " 'run': 871,\n",
       " 's': 872,\n",
       " 'said': 873,\n",
       " 'said:': 874,\n",
       " 'same': 875,\n",
       " 'satisfaction': 876,\n",
       " 'satisfaction:': 877,\n",
       " 'savour': 878,\n",
       " 'saw': 879,\n",
       " 'say': 880,\n",
       " 'say:': 881,\n",
       " 'saying': 882,\n",
       " 'says': 883,\n",
       " 'scorn': 884,\n",
       " 'scornful': 885,\n",
       " 'secret': 886,\n",
       " 'see': 887,\n",
       " 'seemed': 888,\n",
       " 'seen': 889,\n",
       " 'self-confident': 890,\n",
       " 'send': 891,\n",
       " 'sensation': 892,\n",
       " 'sensitive': 893,\n",
       " 'sent': 894,\n",
       " 'serious': 895,\n",
       " 'set': 896,\n",
       " 'sex': 897,\n",
       " 'shade': 898,\n",
       " 'shaking': 899,\n",
       " 'shall': 900,\n",
       " 'she': 901,\n",
       " 'shirked': 902,\n",
       " 'short': 903,\n",
       " 'should': 904,\n",
       " 'shoulder': 905,\n",
       " 'shoulders': 906,\n",
       " 'show': 907,\n",
       " 'showed': 908,\n",
       " 'showy': 909,\n",
       " 'shrug': 910,\n",
       " 'shrugged': 911,\n",
       " 'sight': 912,\n",
       " 'sign': 913,\n",
       " 'silent;': 914,\n",
       " 'silver': 915,\n",
       " 'similar': 916,\n",
       " 'simpleton': 917,\n",
       " 'simplifications': 918,\n",
       " 'simply': 919,\n",
       " 'since': 920,\n",
       " 'single': 921,\n",
       " 'sitter': 922,\n",
       " 'sitters': 923,\n",
       " 'sketch': 924,\n",
       " 'skill': 925,\n",
       " 'slight': 926,\n",
       " 'slightly': 927,\n",
       " 'slowly:': 928,\n",
       " 'small': 929,\n",
       " 'smile': 930,\n",
       " 'smiling': 931,\n",
       " 'sneer': 932,\n",
       " 'so': 933,\n",
       " 'solace': 934,\n",
       " 'some': 935,\n",
       " 'somebody': 936,\n",
       " 'something': 937,\n",
       " 'spacious': 938,\n",
       " 'spaniel': 939,\n",
       " 'speaking-tubes': 940,\n",
       " 'speculations;': 941,\n",
       " 'spite': 942,\n",
       " 'splash': 943,\n",
       " 'square': 944,\n",
       " 'stairs': 945,\n",
       " 'stammer': 946,\n",
       " 'stand': 947,\n",
       " 'standing': 948,\n",
       " 'started': 949,\n",
       " 'stay': 950,\n",
       " 'still': 951,\n",
       " 'stocked': 952,\n",
       " 'stood': 953,\n",
       " 'stopped': 954,\n",
       " 'stopping': 955,\n",
       " 'straddling': 956,\n",
       " 'straight': 957,\n",
       " 'strain': 958,\n",
       " 'straining': 959,\n",
       " 'strange': 960,\n",
       " 'straw': 961,\n",
       " 'stream': 962,\n",
       " 'stroke': 963,\n",
       " 'strokes': 964,\n",
       " 'strolled': 965,\n",
       " 'strongest': 966,\n",
       " 'strongly': 967,\n",
       " 'struck': 968,\n",
       " 'studio': 969,\n",
       " 'stuff': 970,\n",
       " 'subject': 971,\n",
       " 'substantial': 972,\n",
       " 'suburban': 973,\n",
       " 'such': 974,\n",
       " 'suddenly': 975,\n",
       " 'suffered': 976,\n",
       " 'sugar': 977,\n",
       " 'suggested': 978,\n",
       " 'sunburn': 979,\n",
       " 'sunburnt': 980,\n",
       " 'sunlit': 981,\n",
       " 'superb': 982,\n",
       " 'sure': 983,\n",
       " 'surest': 984,\n",
       " 'surface': 985,\n",
       " 'surprise': 986,\n",
       " 'surprised': 987,\n",
       " 'surrounded': 988,\n",
       " 'suspected': 989,\n",
       " 'sweetly': 990,\n",
       " 'sweetness': 991,\n",
       " 'swelling': 992,\n",
       " 'swept': 993,\n",
       " 'swum': 994,\n",
       " 't': 995,\n",
       " 'table': 996,\n",
       " 'take': 997,\n",
       " 'taken': 998,\n",
       " 'talking': 999,\n",
       " ...}"
      ]
     },
     "execution_count": 23,
     "metadata": {},
     "output_type": "execute_result"
    }
   ],
   "source": [
    "vocab = {token:integer for integer, token in enumerate(all_words)}\n",
    "vocab"
   ]
  },
  {
   "cell_type": "code",
   "execution_count": 24,
   "metadata": {},
   "outputs": [],
   "source": [
    "class SimpleTokenizerV1:\n",
    "    def __init__(self, vocab):\n",
    "        self.str_to_int = vocab\n",
    "        self.int_to_str = {i:s for s,i in vocab.items()}\n",
    "\n",
    "    def encode(self, text):\n",
    "        preprocessed = re.split(r'([,.?_!\"()\\']|--|\\s)', text)\n",
    "        preprocessed = [item.strip() for item in preprocessed if item.strip()]\n",
    "        ids = [self.str_to_int[s] for s in preprocessed]\n",
    "        return ids\n",
    "    \n",
    "    def decode(self, ids):\n",
    "        text = \" \".join([self.int_to_str[i] for i in ids])\n",
    "        # Replace spaces before the specified punctuations\n",
    "        text = re.sub(r'\\s+([,.?!\"()\\'])', r'\\1', text)\n",
    "        return text"
   ]
  },
  {
   "cell_type": "code",
   "execution_count": 25,
   "metadata": {},
   "outputs": [
    {
     "name": "stdout",
     "output_type": "stream",
     "text": [
      "[1, 58, 2, 872, 1013, 615, 541, 763, 5, 1155, 608, 5, 1, 69, 7, 39, 873, 1136, 773, 812, 7]\n"
     ]
    }
   ],
   "source": [
    "tokenizer = SimpleTokenizerV1(vocab)\n",
    "\n",
    "text = \"\"\"\"It's the last he painted, you know,\" Mrs. Gisburn said with pardonable pride.\"\"\"\n",
    "ids = tokenizer.encode(text)\n",
    "print(ids)"
   ]
  },
  {
   "cell_type": "code",
   "execution_count": 26,
   "metadata": {},
   "outputs": [
    {
     "data": {
      "text/plain": [
       "'\" It\\' s the last he painted, you know,\" Mrs. Gisburn said with pardonable pride.'"
      ]
     },
     "execution_count": 26,
     "metadata": {},
     "output_type": "execute_result"
    }
   ],
   "source": [
    "tokenizer.decode(ids)"
   ]
  },
  {
   "cell_type": "markdown",
   "metadata": {},
   "source": [
    "# Adding special context tokens"
   ]
  },
  {
   "cell_type": "code",
   "execution_count": 27,
   "metadata": {},
   "outputs": [],
   "source": [
    "all_tokens = sorted(list(set(preprocessed)))\n",
    "all_tokens.extend([\"<|endoftext|>\", \"<|unk|>\"])"
   ]
  },
  {
   "cell_type": "code",
   "execution_count": 32,
   "metadata": {},
   "outputs": [
    {
     "data": {
      "text/plain": [
       "['year',\n",
       " 'years',\n",
       " 'yellow',\n",
       " 'yet',\n",
       " 'you',\n",
       " 'younger',\n",
       " 'your',\n",
       " 'yourself',\n",
       " '<|endoftext|>']"
      ]
     },
     "execution_count": 32,
     "metadata": {},
     "output_type": "execute_result"
    }
   ],
   "source": [
    "# last 9 tokens. We added <EOS>\n",
    "all_tokens[-10:-1]"
   ]
  },
  {
   "cell_type": "code",
   "execution_count": 34,
   "metadata": {},
   "outputs": [
    {
     "data": {
      "text/plain": [
       "1161"
      ]
     },
     "execution_count": 34,
     "metadata": {},
     "output_type": "execute_result"
    }
   ],
   "source": [
    "# rebuild the vocab\n",
    "vocab = {token:integer for integer,token in enumerate(all_tokens)}\n",
    "len(vocab.items())"
   ]
  },
  {
   "cell_type": "code",
   "execution_count": 36,
   "metadata": {},
   "outputs": [
    {
     "name": "stdout",
     "output_type": "stream",
     "text": [
      "('younger', 1156)\n",
      "('your', 1157)\n",
      "('yourself', 1158)\n",
      "('<|endoftext|>', 1159)\n",
      "('<|unk|>', 1160)\n"
     ]
    }
   ],
   "source": [
    "for i, item in enumerate(list(vocab.items())[-5:]):\n",
    "    print(item)"
   ]
  },
  {
   "cell_type": "code",
   "execution_count": 41,
   "metadata": {},
   "outputs": [],
   "source": [
    "class SimpleTokenizerV2:\n",
    "    def __init__(self, vocab):\n",
    "        self.str_to_int = vocab\n",
    "        self.int_to_str = {i:s for s,i in vocab.items()}\n",
    "\n",
    "    def encode(self, text):\n",
    "        preprocessed = re.split(r'([,.?_!\"()\\']|--|\\s)', text)\n",
    "        preprocessed = [item.strip() for item in preprocessed if item.strip()]\n",
    "\n",
    "        # if unable to find vocab, replace string with <unk>\n",
    "        preprocessed = [item if item in self.str_to_int else \"<|unk|>\" for item in preprocessed]\n",
    "\n",
    "        ids = [self.str_to_int[s] for s in preprocessed]\n",
    "        return ids\n",
    "    \n",
    "    def decode(self, ids):\n",
    "        text = \" \".join([self.int_to_str[i] for i in ids])\n",
    "        # Replace spaces before the specified punctuations\n",
    "        text = re.sub(r'\\s+([,.?!\"()\\'])', r'\\1', text)\n",
    "        return text"
   ]
  },
  {
   "cell_type": "code",
   "execution_count": 42,
   "metadata": {},
   "outputs": [
    {
     "name": "stdout",
     "output_type": "stream",
     "text": [
      "Hello, do you like tea? <|endoftext|> In the sunlit terraces of the palace.\n"
     ]
    }
   ],
   "source": [
    "tokenizer = SimpleTokenizerV2(vocab)\n",
    "\n",
    "text1 = \"Hello, do you like tea?\"\n",
    "text2 = \"In the sunlit terraces of the palace.\"\n",
    "\n",
    "text = \" <|endoftext|> \".join((text1, text2))\n",
    "\n",
    "print(text)"
   ]
  },
  {
   "cell_type": "markdown",
   "metadata": {},
   "source": [
    "# Byte Pair Encoding"
   ]
  },
  {
   "cell_type": "code",
   "execution_count": 43,
   "metadata": {},
   "outputs": [],
   "source": [
    "tokenizer = tiktoken.get_encoding(\"gpt2\")"
   ]
  },
  {
   "cell_type": "code",
   "execution_count": 44,
   "metadata": {},
   "outputs": [
    {
     "name": "stdout",
     "output_type": "stream",
     "text": [
      "[15496, 11, 466, 345, 588, 8887, 30, 220, 50256, 554, 262, 4252, 18250, 8812, 2114, 286, 617, 34680, 27271, 13]\n"
     ]
    }
   ],
   "source": [
    "text = \"Hello, do you like tea? <|endoftext|> In the sunlit terraces of someunknownPlace.\"\n",
    "\n",
    "integers = tokenizer.encode(text, allowed_special={\"<|endoftext|>\"})\n",
    "\n",
    "print(integers)"
   ]
  },
  {
   "cell_type": "code",
   "execution_count": 45,
   "metadata": {},
   "outputs": [
    {
     "name": "stdout",
     "output_type": "stream",
     "text": [
      "Hello, do you like tea? <|endoftext|> In the sunlit terraces of someunknownPlace.\n"
     ]
    }
   ],
   "source": [
    "strings = tokenizer.decode(integers)\n",
    "\n",
    "print(strings)"
   ]
  },
  {
   "cell_type": "markdown",
   "metadata": {},
   "source": [
    "# Data Sampling with a Sliding Window"
   ]
  },
  {
   "cell_type": "markdown",
   "metadata": {},
   "source": [
    "Before we create embeddings for LLM, we generate input target pairs"
   ]
  },
  {
   "cell_type": "code",
   "execution_count": 46,
   "metadata": {},
   "outputs": [
    {
     "name": "stdout",
     "output_type": "stream",
     "text": [
      "5145\n"
     ]
    }
   ],
   "source": [
    "with open(\"the-verdict.txt\", \"r\", encoding=\"utf-8\") as f:\n",
    "    raw_text = f.read()\n",
    "\n",
    "enc_text = tokenizer.encode(raw_text)\n",
    "print(len(enc_text))"
   ]
  },
  {
   "cell_type": "markdown",
   "metadata": {},
   "source": [
    "Since we want the model to predict the next word, the targets are the inputs shifted by one position to the right"
   ]
  },
  {
   "cell_type": "code",
   "execution_count": 49,
   "metadata": {},
   "outputs": [],
   "source": [
    "enc_sample = enc_text[50:]"
   ]
  },
  {
   "cell_type": "code",
   "execution_count": 50,
   "metadata": {},
   "outputs": [
    {
     "name": "stdout",
     "output_type": "stream",
     "text": [
      "x: [290, 4920, 2241, 287]\n",
      "y:      [4920, 2241, 287, 257]\n"
     ]
    }
   ],
   "source": [
    "context_size = 4\n",
    "\n",
    "x = enc_sample[:context_size]\n",
    "y = enc_sample[1:context_size+1]\n",
    "\n",
    "print(f\"x: {x}\")\n",
    "print(f\"y:      {y}\")"
   ]
  },
  {
   "cell_type": "code",
   "execution_count": 51,
   "metadata": {},
   "outputs": [
    {
     "name": "stdout",
     "output_type": "stream",
     "text": [
      "[290] ----> 4920\n",
      "[290, 4920] ----> 2241\n",
      "[290, 4920, 2241] ----> 287\n",
      "[290, 4920, 2241, 287] ----> 257\n"
     ]
    }
   ],
   "source": [
    "for i in range(1, context_size+1):\n",
    "    context = enc_sample[:i]\n",
    "    desired = enc_sample[i]\n",
    "\n",
    "    print(context, \"---->\", desired)"
   ]
  },
  {
   "cell_type": "code",
   "execution_count": 52,
   "metadata": {},
   "outputs": [
    {
     "name": "stdout",
     "output_type": "stream",
     "text": [
      " and ---->  established\n",
      " and established ---->  himself\n",
      " and established himself ---->  in\n",
      " and established himself in ---->  a\n"
     ]
    }
   ],
   "source": [
    "for i in range(1, context_size+1):\n",
    "    context = enc_sample[:i]\n",
    "    desired = enc_sample[i]\n",
    "\n",
    "    print(tokenizer.decode(context), \"---->\", tokenizer.decode([desired]))"
   ]
  },
  {
   "cell_type": "markdown",
   "metadata": {},
   "source": [
    "We need to create an efficient data loader that iterates over the input dataset and returns the inputs and targets shifted by one"
   ]
  },
  {
   "cell_type": "code",
   "execution_count": 55,
   "metadata": {},
   "outputs": [],
   "source": [
    "from torch.utils.data import Dataset, DataLoader\n",
    "\n",
    "class GPTDatasetV1(Dataset):\n",
    "    def __init__(self, txt, tokenizer, max_length, stride):\n",
    "        self.input_ids = []\n",
    "        self.target_ids = []\n",
    "\n",
    "        # Tokenize the entire text\n",
    "        token_ids = tokenizer.encode(txt, allowed_special={\"<|endoftext|>\"})\n",
    "\n",
    "        # Use a sliding window to chunk the book into overlapping sequences of max_length\n",
    "        for i in range(0, len(token_ids) - max_length, stride):\n",
    "            input_chunk = token_ids[i : i + max_length]\n",
    "            target_chunk = token_ids[i+1 : i + max_length + 1]\n",
    "\n",
    "            self.input_ids.append(torch.tensor(input_chunk))\n",
    "            self.target_ids.append(torch.tensor(target_chunk))\n",
    "\n",
    "    def __len__(self):\n",
    "        return len(self.input_ids)\n",
    "\n",
    "    def __getitem__(self, idx):\n",
    "        return self.input_ids[idx], self.target_ids[idx]\n"
   ]
  },
  {
   "cell_type": "code",
   "execution_count": 56,
   "metadata": {},
   "outputs": [],
   "source": [
    "def create_dataloader_v1(txt,\n",
    "                         batch_size=4,\n",
    "                         max_length=256,\n",
    "                         stride=128,\n",
    "                         shuffle=True,\n",
    "                         drop_last=True,\n",
    "                         num_workers=0):\n",
    "    \n",
    "    # Initialize the tokenizer\n",
    "    tokenizer = tiktoken.get_encoding(\"gpt2\")\n",
    "\n",
    "    # Create dataset\n",
    "    dataset = GPTDatasetV1(txt, tokenizer, max_length, stride)\n",
    "\n",
    "    # Create dataloader\n",
    "    dataloader = DataLoader(\n",
    "        dataset,\n",
    "        batch_size=batch_size,\n",
    "        shuffle=shuffle,\n",
    "        drop_last=drop_last,\n",
    "        num_workers=0\n",
    "    )\n",
    "\n",
    "    return dataloader\n"
   ]
  },
  {
   "cell_type": "code",
   "execution_count": 57,
   "metadata": {},
   "outputs": [],
   "source": [
    "with open(\"the-verdict.txt\", \"r\", encoding=\"utf-8\") as f:\n",
    "    raw_text = f.read()"
   ]
  },
  {
   "cell_type": "code",
   "execution_count": 61,
   "metadata": {},
   "outputs": [],
   "source": [
    "dataloader = create_dataloader_v1(raw_text, batch_size=1, max_length=4, stride=1, shuffle=False)\n",
    "data_iter = iter(dataloader)\n",
    "first_batch = next(data_iter)"
   ]
  },
  {
   "cell_type": "code",
   "execution_count": 62,
   "metadata": {},
   "outputs": [
    {
     "name": "stdout",
     "output_type": "stream",
     "text": [
      "[tensor([[  40,  367, 2885, 1464]]), tensor([[ 367, 2885, 1464, 1807]])]\n"
     ]
    }
   ],
   "source": [
    "print(first_batch)"
   ]
  },
  {
   "cell_type": "code",
   "execution_count": 63,
   "metadata": {},
   "outputs": [
    {
     "name": "stdout",
     "output_type": "stream",
     "text": [
      "[tensor([[ 367, 2885, 1464, 1807]]), tensor([[2885, 1464, 1807, 3619]])]\n"
     ]
    }
   ],
   "source": [
    "second_batch = next(data_iter)\n",
    "print(second_batch)"
   ]
  },
  {
   "cell_type": "code",
   "execution_count": 64,
   "metadata": {},
   "outputs": [
    {
     "name": "stdout",
     "output_type": "stream",
     "text": [
      "Inputs:\n",
      " tensor([[   40,   367,  2885,  1464],\n",
      "        [ 1807,  3619,   402,   271],\n",
      "        [10899,  2138,   257,  7026],\n",
      "        [15632,   438,  2016,   257],\n",
      "        [  922,  5891,  1576,   438],\n",
      "        [  568,   340,   373,   645],\n",
      "        [ 1049,  5975,   284,   502],\n",
      "        [  284,  3285,   326,    11]])\n",
      "\n",
      "Targets:\n",
      " tensor([[  367,  2885,  1464,  1807],\n",
      "        [ 3619,   402,   271, 10899],\n",
      "        [ 2138,   257,  7026, 15632],\n",
      "        [  438,  2016,   257,   922],\n",
      "        [ 5891,  1576,   438,   568],\n",
      "        [  340,   373,   645,  1049],\n",
      "        [ 5975,   284,   502,   284],\n",
      "        [ 3285,   326,    11,   287]])\n"
     ]
    }
   ],
   "source": [
    "dataloader = create_dataloader_v1(raw_text, batch_size=8, max_length=4, stride=4, shuffle=False)\n",
    "\n",
    "data_iter = iter(dataloader)\n",
    "inputs, targets = next(data_iter)\n",
    "print(\"Inputs:\\n\", inputs)\n",
    "print(\"\\nTargets:\\n\", targets)"
   ]
  },
  {
   "cell_type": "markdown",
   "metadata": {},
   "source": [
    "# Creating token embeddings"
   ]
  },
  {
   "cell_type": "code",
   "execution_count": 65,
   "metadata": {},
   "outputs": [
    {
     "data": {
      "text/plain": [
       "tensor([2, 3, 5, 1])"
      ]
     },
     "execution_count": 65,
     "metadata": {},
     "output_type": "execute_result"
    }
   ],
   "source": [
    "# Example of input ids\n",
    "input_ids = torch.tensor([2, 3, 5, 1])\n",
    "input_ids"
   ]
  },
  {
   "cell_type": "markdown",
   "metadata": {},
   "source": [
    "optimized via backpropagation"
   ]
  },
  {
   "cell_type": "code",
   "execution_count": 67,
   "metadata": {},
   "outputs": [
    {
     "name": "stdout",
     "output_type": "stream",
     "text": [
      "Parameter containing:\n",
      "tensor([[ 0.3374, -0.1778, -0.1690],\n",
      "        [ 0.9178,  1.5810,  1.3010],\n",
      "        [ 1.2753, -0.2010, -0.1606],\n",
      "        [-0.4015,  0.9666, -1.1481],\n",
      "        [-1.1589,  0.3255, -0.6315],\n",
      "        [-2.8400, -0.7849, -1.4096]], requires_grad=True)\n"
     ]
    }
   ],
   "source": [
    "vocab_size = 6\n",
    "output_dim = 3\n",
    "\n",
    "torch.manual_seed(123)\n",
    "embedding_layer = torch.nn.Embedding(vocab_size, output_dim)\n",
    "print(embedding_layer.weight) # 6 x 3 weight matrix"
   ]
  },
  {
   "cell_type": "markdown",
   "metadata": {},
   "source": [
    "To convert a token with id 3 into a 3D vector"
   ]
  },
  {
   "cell_type": "code",
   "execution_count": 69,
   "metadata": {},
   "outputs": [
    {
     "name": "stdout",
     "output_type": "stream",
     "text": [
      "tensor([[-0.4015,  0.9666, -1.1481]], grad_fn=<EmbeddingBackward0>)\n"
     ]
    }
   ],
   "source": [
    "print(embedding_layer(torch.tensor([3])))"
   ]
  },
  {
   "cell_type": "markdown",
   "metadata": {},
   "source": [
    "To embed all the input_ids"
   ]
  },
  {
   "cell_type": "code",
   "execution_count": 71,
   "metadata": {},
   "outputs": [
    {
     "data": {
      "text/plain": [
       "tensor([2, 3, 5, 1])"
      ]
     },
     "execution_count": 71,
     "metadata": {},
     "output_type": "execute_result"
    }
   ],
   "source": [
    "input_ids"
   ]
  },
  {
   "cell_type": "code",
   "execution_count": 70,
   "metadata": {},
   "outputs": [
    {
     "name": "stdout",
     "output_type": "stream",
     "text": [
      "tensor([[ 1.2753, -0.2010, -0.1606],\n",
      "        [-0.4015,  0.9666, -1.1481],\n",
      "        [-2.8400, -0.7849, -1.4096],\n",
      "        [ 0.9178,  1.5810,  1.3010]], grad_fn=<EmbeddingBackward0>)\n"
     ]
    }
   ],
   "source": [
    "print(embedding_layer(input_ids))"
   ]
  },
  {
   "cell_type": "markdown",
   "metadata": {},
   "source": [
    "# Encoding Word Positions"
   ]
  },
  {
   "cell_type": "markdown",
   "metadata": {},
   "source": [
    "The BytePair encoder has a vocabulary size of 50,257.\n",
    "If we want to encode the input tokens into a 256 dimensional vector representation,"
   ]
  },
  {
   "cell_type": "code",
   "execution_count": 72,
   "metadata": {},
   "outputs": [],
   "source": [
    "vocab_size = 50257\n",
    "output_dim = 256\n",
    "\n",
    "token_embedding_layer = torch.nn.Embedding(vocab_size, output_dim)"
   ]
  },
  {
   "cell_type": "code",
   "execution_count": 73,
   "metadata": {},
   "outputs": [
    {
     "data": {
      "text/plain": [
       "Embedding(50257, 256)"
      ]
     },
     "execution_count": 73,
     "metadata": {},
     "output_type": "execute_result"
    }
   ],
   "source": [
    "token_embedding_layer"
   ]
  },
  {
   "cell_type": "code",
   "execution_count": 74,
   "metadata": {},
   "outputs": [],
   "source": [
    "max_length = 4\n",
    "dataloader = create_dataloader_v1(raw_text, batch_size=8, max_length=max_length, stride=max_length, shuffle=False)\n",
    "data_iter = iter(dataloader)\n",
    "inputs, targets = next(data_iter)"
   ]
  },
  {
   "cell_type": "code",
   "execution_count": 75,
   "metadata": {},
   "outputs": [
    {
     "name": "stdout",
     "output_type": "stream",
     "text": [
      "Token IDs:\n",
      " tensor([[   40,   367,  2885,  1464],\n",
      "        [ 1807,  3619,   402,   271],\n",
      "        [10899,  2138,   257,  7026],\n",
      "        [15632,   438,  2016,   257],\n",
      "        [  922,  5891,  1576,   438],\n",
      "        [  568,   340,   373,   645],\n",
      "        [ 1049,  5975,   284,   502],\n",
      "        [  284,  3285,   326,    11]])\n",
      "\n",
      "Inputs shape:\n",
      " torch.Size([8, 4])\n"
     ]
    }
   ],
   "source": [
    "print(\"Token IDs:\\n\", inputs)\n",
    "print(\"\\nInputs shape:\\n\", inputs.shape)"
   ]
  },
  {
   "cell_type": "code",
   "execution_count": 76,
   "metadata": {},
   "outputs": [
    {
     "name": "stdout",
     "output_type": "stream",
     "text": [
      "torch.Size([8, 4, 256])\n"
     ]
    }
   ],
   "source": [
    "token_embeddings = token_embedding_layer(inputs)\n",
    "print(token_embeddings.shape)"
   ]
  },
  {
   "cell_type": "code",
   "execution_count": 77,
   "metadata": {},
   "outputs": [
    {
     "data": {
      "text/plain": [
       "tensor([[ 0.4913,  1.1239,  1.4588,  ..., -0.3995, -1.8735, -0.1445],\n",
       "        [ 0.4481,  0.2536, -0.2655,  ...,  0.4997, -1.1991, -1.1844],\n",
       "        [-0.2507, -0.0546,  0.6687,  ...,  0.9618,  2.3737, -0.0528],\n",
       "        [ 0.9457,  0.8657,  1.6191,  ..., -0.4544, -0.7460,  0.3483]],\n",
       "       grad_fn=<SelectBackward0>)"
      ]
     },
     "execution_count": 77,
     "metadata": {},
     "output_type": "execute_result"
    }
   ],
   "source": [
    "token_embeddings[0]"
   ]
  },
  {
   "cell_type": "markdown",
   "metadata": {},
   "source": [
    "GPT-2  uses absolute position embeddings."
   ]
  },
  {
   "cell_type": "code",
   "execution_count": 80,
   "metadata": {},
   "outputs": [
    {
     "data": {
      "text/plain": [
       "Embedding(4, 256)"
      ]
     },
     "execution_count": 80,
     "metadata": {},
     "output_type": "execute_result"
    }
   ],
   "source": [
    "context_length = max_length\n",
    "pos_embedding_layer = torch.nn.Embedding(context_length, output_dim)\n",
    "pos_embedding_layer"
   ]
  },
  {
   "cell_type": "code",
   "execution_count": 81,
   "metadata": {},
   "outputs": [
    {
     "name": "stdout",
     "output_type": "stream",
     "text": [
      "torch.Size([4, 256])\n"
     ]
    }
   ],
   "source": [
    "pos_embeddings = pos_embedding_layer(torch.arange(max_length))\n",
    "print(pos_embeddings.shape)"
   ]
  },
  {
   "cell_type": "markdown",
   "metadata": {},
   "source": [
    "To create the input embeddings used in LLM, token_embeddings + positional embeddings"
   ]
  },
  {
   "cell_type": "code",
   "execution_count": 82,
   "metadata": {},
   "outputs": [
    {
     "name": "stdout",
     "output_type": "stream",
     "text": [
      "torch.Size([8, 4, 256])\n"
     ]
    }
   ],
   "source": [
    "input_embeddings = token_embeddings + pos_embeddings\n",
    "print(input_embeddings.shape)"
   ]
  }
 ],
 "metadata": {
  "kernelspec": {
   "display_name": ".venv",
   "language": "python",
   "name": "python3"
  },
  "language_info": {
   "codemirror_mode": {
    "name": "ipython",
    "version": 3
   },
   "file_extension": ".py",
   "mimetype": "text/x-python",
   "name": "python",
   "nbconvert_exporter": "python",
   "pygments_lexer": "ipython3",
   "version": "3.9.13"
  }
 },
 "nbformat": 4,
 "nbformat_minor": 2
}
